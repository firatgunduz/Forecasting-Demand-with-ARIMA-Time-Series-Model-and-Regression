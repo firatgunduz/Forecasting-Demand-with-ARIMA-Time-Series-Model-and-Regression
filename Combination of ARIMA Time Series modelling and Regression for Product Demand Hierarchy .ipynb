{
 "cells": [
  {
   "cell_type": "code",
   "execution_count": 2,
   "metadata": {
    "scrolled": true
   },
   "outputs": [
    {
     "name": "stderr",
     "output_type": "stream",
     "text": [
      "Parsed with column specification:\n",
      "cols(\n",
      "  M.hi.p = col_double(),\n",
      "  M.lo.p = col_double(),\n",
      "  MET.hi.p = col_double(),\n",
      "  MET.lo.p = col_double(),\n",
      "  MET.sp.p = col_double(),\n",
      "  SEC.hi.p = col_double(),\n",
      "  SEC.lo.p = col_double(),\n",
      "  M.hi = col_double(),\n",
      "  M.lo = col_double(),\n",
      "  MET.hi = col_double(),\n",
      "  MET.lo = col_double(),\n",
      "  MET.sp = col_double(),\n",
      "  SEC.hi = col_double(),\n",
      "  SEC.lo = col_double()\n",
      ")\n"
     ]
    },
    {
     "data": {
      "text/html": [
       "<table>\n",
       "<thead><tr><th scope=col>M.hi.p</th><th scope=col>M.lo.p</th><th scope=col>MET.hi.p</th><th scope=col>MET.lo.p</th><th scope=col>MET.sp.p</th><th scope=col>SEC.hi.p</th><th scope=col>SEC.lo.p</th><th scope=col>M.hi</th><th scope=col>M.lo</th><th scope=col>MET.hi</th><th scope=col>MET.lo</th><th scope=col>MET.sp</th><th scope=col>SEC.hi</th><th scope=col>SEC.lo</th></tr></thead>\n",
       "<tbody>\n",
       "\t<tr><td>59.25</td><td>29.19</td><td>63.67</td><td>26.03</td><td>50.09</td><td>58.56</td><td>29.19</td><td>458  </td><td>1455 </td><td>2037 </td><td>3437 </td><td>468  </td><td>156  </td><td>544  </td></tr>\n",
       "\t<tr><td>56.26</td><td>26.31</td><td>60.34</td><td>25.54</td><td>48.82</td><td>54.64</td><td>26.31</td><td>477  </td><td>1756 </td><td>1700 </td><td>3436 </td><td>464  </td><td>151  </td><td>624  </td></tr>\n",
       "\t<tr><td>56.26</td><td>26.25</td><td>60.79</td><td>25.69</td><td>48.56</td><td>57.90</td><td>26.25</td><td>539  </td><td>2296 </td><td>1747 </td><td>3304 </td><td>490  </td><td>178  </td><td>611  </td></tr>\n",
       "\t<tr><td>49.33</td><td>26.15</td><td>55.09</td><td>26.46</td><td>47.74</td><td>49.70</td><td>26.15</td><td>687  </td><td>3240 </td><td>2371 </td><td>3864 </td><td>657  </td><td>217  </td><td>646  </td></tr>\n",
       "\t<tr><td>61.34</td><td>25.88</td><td>65.09</td><td>25.72</td><td>50.75</td><td>63.72</td><td>25.88</td><td>389  </td><td>2252 </td><td>1741 </td><td>3406 </td><td>439  </td><td>141  </td><td>624  </td></tr>\n",
       "\t<tr><td>61.40</td><td>27.35</td><td>67.91</td><td>26.17</td><td>52.63</td><td>68.38</td><td>27.35</td><td>399  </td><td>1901 </td><td>2072 </td><td>3418 </td><td>453  </td><td>149  </td><td>610  </td></tr>\n",
       "</tbody>\n",
       "</table>\n"
      ],
      "text/latex": [
       "\\begin{tabular}{r|llllllllllllll}\n",
       " M.hi.p & M.lo.p & MET.hi.p & MET.lo.p & MET.sp.p & SEC.hi.p & SEC.lo.p & M.hi & M.lo & MET.hi & MET.lo & MET.sp & SEC.hi & SEC.lo\\\\\n",
       "\\hline\n",
       "\t 59.25 & 29.19 & 63.67 & 26.03 & 50.09 & 58.56 & 29.19 & 458   & 1455  & 2037  & 3437  & 468   & 156   & 544  \\\\\n",
       "\t 56.26 & 26.31 & 60.34 & 25.54 & 48.82 & 54.64 & 26.31 & 477   & 1756  & 1700  & 3436  & 464   & 151   & 624  \\\\\n",
       "\t 56.26 & 26.25 & 60.79 & 25.69 & 48.56 & 57.90 & 26.25 & 539   & 2296  & 1747  & 3304  & 490   & 178   & 611  \\\\\n",
       "\t 49.33 & 26.15 & 55.09 & 26.46 & 47.74 & 49.70 & 26.15 & 687   & 3240  & 2371  & 3864  & 657   & 217   & 646  \\\\\n",
       "\t 61.34 & 25.88 & 65.09 & 25.72 & 50.75 & 63.72 & 25.88 & 389   & 2252  & 1741  & 3406  & 439   & 141   & 624  \\\\\n",
       "\t 61.40 & 27.35 & 67.91 & 26.17 & 52.63 & 68.38 & 27.35 & 399   & 1901  & 2072  & 3418  & 453   & 149   & 610  \\\\\n",
       "\\end{tabular}\n"
      ],
      "text/markdown": [
       "\n",
       "| M.hi.p | M.lo.p | MET.hi.p | MET.lo.p | MET.sp.p | SEC.hi.p | SEC.lo.p | M.hi | M.lo | MET.hi | MET.lo | MET.sp | SEC.hi | SEC.lo |\n",
       "|---|---|---|---|---|---|---|---|---|---|---|---|---|---|\n",
       "| 59.25 | 29.19 | 63.67 | 26.03 | 50.09 | 58.56 | 29.19 | 458   | 1455  | 2037  | 3437  | 468   | 156   | 544   |\n",
       "| 56.26 | 26.31 | 60.34 | 25.54 | 48.82 | 54.64 | 26.31 | 477   | 1756  | 1700  | 3436  | 464   | 151   | 624   |\n",
       "| 56.26 | 26.25 | 60.79 | 25.69 | 48.56 | 57.90 | 26.25 | 539   | 2296  | 1747  | 3304  | 490   | 178   | 611   |\n",
       "| 49.33 | 26.15 | 55.09 | 26.46 | 47.74 | 49.70 | 26.15 | 687   | 3240  | 2371  | 3864  | 657   | 217   | 646   |\n",
       "| 61.34 | 25.88 | 65.09 | 25.72 | 50.75 | 63.72 | 25.88 | 389   | 2252  | 1741  | 3406  | 439   | 141   | 624   |\n",
       "| 61.40 | 27.35 | 67.91 | 26.17 | 52.63 | 68.38 | 27.35 | 399   | 1901  | 2072  | 3418  | 453   | 149   | 610   |\n",
       "\n"
      ],
      "text/plain": [
       "  M.hi.p M.lo.p MET.hi.p MET.lo.p MET.sp.p SEC.hi.p SEC.lo.p M.hi M.lo MET.hi\n",
       "1 59.25  29.19  63.67    26.03    50.09    58.56    29.19    458  1455 2037  \n",
       "2 56.26  26.31  60.34    25.54    48.82    54.64    26.31    477  1756 1700  \n",
       "3 56.26  26.25  60.79    25.69    48.56    57.90    26.25    539  2296 1747  \n",
       "4 49.33  26.15  55.09    26.46    47.74    49.70    26.15    687  3240 2371  \n",
       "5 61.34  25.88  65.09    25.72    50.75    63.72    25.88    389  2252 1741  \n",
       "6 61.40  27.35  67.91    26.17    52.63    68.38    27.35    399  1901 2072  \n",
       "  MET.lo MET.sp SEC.hi SEC.lo\n",
       "1 3437   468    156    544   \n",
       "2 3436   464    151    624   \n",
       "3 3304   490    178    611   \n",
       "4 3864   657    217    646   \n",
       "5 3406   439    141    624   \n",
       "6 3418   453    149    610   "
      ]
     },
     "metadata": {},
     "output_type": "display_data"
    }
   ],
   "source": [
    "# Importing demand data and \"dplyr\" library\n",
    "# Regions: M <- Mountain, MET <- Metropolitan, SEC <- Southeast Coastal\n",
    "# Products: sp <- special, lo <- low, hi <- high\n",
    "library(readr)\n",
    "Bev_data <- read_csv(\"C:/Users/Dell/Desktop/Bev.csv\")\n",
    "head(Bev_data)"
   ]
  },
  {
   "cell_type": "code",
   "execution_count": 4,
   "metadata": {
    "scrolled": true
   },
   "outputs": [
    {
     "name": "stderr",
     "output_type": "stream",
     "text": [
      "Warning message:\n",
      "\"package 'xts' was built under R version 3.6.3\"Loading required package: zoo\n",
      "Warning message:\n",
      "\"package 'zoo' was built under R version 3.6.3\"\n",
      "Attaching package: 'zoo'\n",
      "\n",
      "The following objects are masked from 'package:base':\n",
      "\n",
      "    as.Date, as.Date.numeric\n",
      "\n"
     ]
    },
    {
     "data": {
      "image/png": "[encoded data removed]",
      "text/plain": [
       "plot without title"
      ]
     },
     "metadata": {},
     "output_type": "display_data"
    }
   ],
   "source": [
    "# Creating a date index object, starting 2016-01-19\n",
    "# Creating an xts (extensible time series) object with xts library\n",
    "dates <- seq(as.Date(\"2016-01-19\"), length = 176, by = \"weeks\")\n",
    "library(xts)\n",
    "Bev_xts <- xts(Bev_data, order.by = dates)\n",
    "# Plot of Metropolitan Region Hi Product\n",
    "library(stats)\n",
    "M_hi <- Bev_xts[,\"M.hi\"]\n",
    "plot(M_hi)"
   ]
  },
  {
   "cell_type": "code",
   "execution_count": 5,
   "metadata": {},
   "outputs": [],
   "source": [
    "# Train / Test split of data for Mountain Region\n",
    "M_total <- Bev_xts[,\"M.hi\"] + Bev_xts[,\"M.lo\"]\n",
    "# Assigning 2019 period for Test Data\n",
    "M_total_train <- M_total[index(M_total) < \"2019-01-01\"]\n",
    "M_total_test <- M_total[index(M_total) >= \"2019-01-01\"]\n"
   ]
  },
  {
   "cell_type": "code",
   "execution_count": 6,
   "metadata": {},
   "outputs": [
    {
     "name": "stderr",
     "output_type": "stream",
     "text": [
      "Installing package into 'C:/Users/Dell/Documents/R/win-library/3.6'\n",
      "(as 'lib' is unspecified)\n"
     ]
    },
    {
     "name": "stdout",
     "output_type": "stream",
     "text": [
      "\n",
      "  There is a binary version available but the source version is later:\n",
      "         binary source needs_compilation\n",
      "forecast   8.11   8.12              TRUE\n",
      "\n",
      "  Binaries will be installed\n",
      "package 'forecast' successfully unpacked and MD5 sums checked\n",
      "\n",
      "The downloaded binary packages are in\n",
      "\tC:\\Users\\Dell\\AppData\\Local\\Temp\\RtmpgxQR02\\downloaded_packages\n"
     ]
    },
    {
     "name": "stderr",
     "output_type": "stream",
     "text": [
      "Warning message:\n",
      "\"package 'forecast' was built under R version 3.6.3\"Registered S3 method overwritten by 'quantmod':\n",
      "  method            from\n",
      "  as.zoo.data.frame zoo \n"
     ]
    },
    {
     "name": "stdout",
     "output_type": "stream",
     "text": [
      "Series: M_total_train \n",
      "ARIMA(5,0,0) with non-zero mean \n",
      "\n",
      "Coefficients:\n",
      "         ar1      ar2     ar3     ar4     ar5       mean\n",
      "      0.6960  -0.1536  0.0827  0.0284  0.0863  2031.7870\n",
      "s.e.  0.0809   0.1002  0.1023  0.1173  0.0990    77.2781\n",
      "\n",
      "sigma^2 estimated as 67773:  log likelihood=-1072.35\n",
      "AIC=2158.71   AICc=2159.47   BIC=2179.96\n",
      "\n",
      "Training set error measures:\n",
      "                    ME     RMSE      MAE       MPE     MAPE       MASE\n",
      "Training set -2.303076 255.2106 178.2267 -1.510674 8.681943 0.08830512\n",
      "                     ACF1\n",
      "Training set -0.001241849\n"
     ]
    }
   ],
   "source": [
    "# Building ARIMA model upon training data\n",
    "install.packages(\"forecast\")\n",
    "library(forecast)\n",
    "M_t_model <- auto.arima(M_total_train)\n",
    "summary(M_t_model)"
   ]
  },
  {
   "cell_type": "code",
   "execution_count": 7,
   "metadata": {},
   "outputs": [],
   "source": [
    "# Building a forecast based on training data within a 22 weeks period\n",
    "forecast_M_t <- forecast(M_t_model, h = 22)\n",
    "# xts object of the forecast\n",
    "for_dates <- seq(as.Date(\"2019-01-01\"), length = 22, by = \"weeks\")\n"
   ]
  },
  {
   "cell_type": "code",
   "execution_count": 8,
   "metadata": {},
   "outputs": [
    {
     "name": "stdout",
     "output_type": "stream",
     "text": [
      "[1] 208.152\n",
      "[1] 10.06563\n"
     ]
    }
   ],
   "source": [
    "# Measuring accuracy of the Time-series forecast\n",
    "for_M_t <- as.numeric(forecast_M_t$mean)\n",
    "v_M_t <- as.numeric(M_total_test)\n",
    "# MAE = Mean Absolute Error ; MAPE = Mean Absolute Percentage Error\n",
    "MAE <- mean(abs(for_M_t - v_M_t))\n",
    "MAPE <- 100 * mean(abs((for_M_t - v_M_t)/v_M_t))\n",
    "print(MAE)\n",
    "print(MAPE)"
   ]
  },
  {
   "cell_type": "code",
   "execution_count": 9,
   "metadata": {},
   "outputs": [
    {
     "data": {
      "image/png": "[encoded data removed]",
      "text/plain": [
       "plot without title"
      ]
     },
     "metadata": {},
     "output_type": "display_data"
    },
    {
     "data": {
      "image/png": "[encoded data removed]",
      "text/plain": [
       "plot without title"
      ]
     },
     "metadata": {},
     "output_type": "display_data"
    }
   ],
   "source": [
    "# We are off by around 10.06% on avg.\n",
    "# Checking confidence intervals, converting upper&lower limits to xts object\n",
    "lower <- xts(forecast_M_t$lower[,2], order.by = for_dates)\n",
    "upper <- xts(forecast_M_t$upper[,2], order.by = for_dates)\n",
    "lines(lower, col = \"blue\", lty=\"dashed\")\n",
    "lines(upper, col = \"blue\", lty=\"dashed\")"
   ]
  },
  {
   "cell_type": "code",
   "execution_count": 10,
   "metadata": {},
   "outputs": [
    {
     "data": {
      "text/plain": [
       "\n",
       "Call:\n",
       "lm(formula = log_sales ~ log_price, data = M_hi_train)\n",
       "\n",
       "Coefficients:\n",
       "(Intercept)    log_price  \n",
       "     8.9453      -0.7016  \n"
      ]
     },
     "metadata": {},
     "output_type": "display_data"
    }
   ],
   "source": [
    "# Price Elasticity Analysis with Linear Regression\n",
    "# Creating seperate \"sales\" and \"price\" vectors\n",
    "M_hi_sales <- as.vector(Bev_xts[,\"M.hi\"])\n",
    "M_hi_price <- as.vector(Bev_xts[,\"M.hi.p\"])\n",
    "# Storing the logs into a data frame\n",
    "M_hi_train <- data.frame(log(M_hi_sales), log(M_hi_price))\n",
    "colnames(M_hi_train) <- c(\"log_sales\", \"log_price\")\n",
    "model_M_hi <- lm(log_sales ~ log_price, data= M_hi_train)\n",
    "model_M_hi\n",
    "# abs(log_price) = 0.70 -> This means the product is \"inelastic\""
   ]
  },
  {
   "cell_type": "code",
   "execution_count": 11,
   "metadata": {},
   "outputs": [
    {
     "data": {
      "text/plain": [
       "           v_xts\n",
       "2016-01-19     0\n",
       "2016-01-26     0\n",
       "2016-02-02     0\n",
       "2016-02-07     1\n",
       "2016-02-08     1"
      ]
     },
     "metadata": {},
     "output_type": "display_data"
    }
   ],
   "source": [
    "# Adding Seasonality data (Valentines Day)\n",
    "# Creating a binary data field\n",
    "v_dates <- as.Date(c(\"2016-02-09\", \"2016-02-08\", \"2016-02-07\"))\n",
    "v_xts <- as.xts(rep(1,3), order.by = v_dates)\n",
    "dates_train <- seq(as.Date(\"2016-01-19\"), length = 174, by=\"weeks\")\n",
    "v_merge <- merge(v_xts, dates_train, fill=0)\n",
    "head(v_merge, n=5)"
   ]
  },
  {
   "cell_type": "code",
   "execution_count": 13,
   "metadata": {},
   "outputs": [
    {
     "data": {
      "text/plain": [
       "\n",
       "Call:\n",
       "lm(formula = log_sales ~ log_price + v_merge, data = M_hi_train)\n",
       "\n",
       "Residuals:\n",
       "     Min       1Q   Median       3Q      Max \n",
       "-0.32811 -0.08924 -0.01066  0.08522  0.41655 \n",
       "\n",
       "Coefficients:\n",
       "            Estimate Std. Error t value Pr(>|t|)    \n",
       "(Intercept)  8.95042    0.45403  19.713  < 2e-16 ***\n",
       "log_price   -0.70315    0.11262  -6.243 3.21e-09 ***\n",
       "v_merge      0.05483    0.07987   0.686    0.493    \n",
       "---\n",
       "Signif. codes:  0 '***' 0.001 '**' 0.01 '*' 0.05 '.' 0.1 ' ' 1\n",
       "\n",
       "Residual standard error: 0.1371 on 173 degrees of freedom\n",
       "Multiple R-squared:  0.1851,\tAdjusted R-squared:  0.1757 \n",
       "F-statistic: 19.65 on 2 and 173 DF,  p-value: 2.042e-08\n"
      ]
     },
     "metadata": {},
     "output_type": "display_data"
    }
   ],
   "source": [
    "# Adding Seasonality Effect to the Regression Model\n",
    "M_hi_train <- data.frame(M_hi_train, as.vector(v_merge))\n",
    "model_M_hi_full <- lm(log_sales ~ log_price + v_merge, data = M_hi_train)\n",
    "summary(model_M_hi_full)"
   ]
  },
  {
   "cell_type": "code",
   "execution_count": 14,
   "metadata": {},
   "outputs": [],
   "source": [
    "# Forecasting via model\n",
    "library(xts)\n",
    "v_dates_test <- as.Date(\"2019-02-12\")\n",
    "v_xts_test <- as.xts(1, order.by = v_dates_test)\n",
    "dates_test <- seq(as.Date(\"2019-01-01\"), length = 22, by = \"weeks\")\n",
    "v_xts_v <- merge(v_xts_test, dates_test, fill = 0)"
   ]
  },
  {
   "cell_type": "code",
   "execution_count": 15,
   "metadata": {},
   "outputs": [
    {
     "data": {
      "text/html": [
       "<table>\n",
       "<thead><tr><th scope=col>log_price</th><th scope=col>valentine</th></tr></thead>\n",
       "<tbody>\n",
       "\t<tr><td>4.081766</td><td>0       </td></tr>\n",
       "\t<tr><td>4.029984</td><td>0       </td></tr>\n",
       "\t<tr><td>4.029984</td><td>0       </td></tr>\n",
       "\t<tr><td>3.898532</td><td>0       </td></tr>\n",
       "\t<tr><td>4.116432</td><td>0       </td></tr>\n",
       "\t<tr><td>4.117410</td><td>0       </td></tr>\n",
       "\t<tr><td>4.187076</td><td>1       </td></tr>\n",
       "\t<tr><td>4.099995</td><td>0       </td></tr>\n",
       "</tbody>\n",
       "</table>\n"
      ],
      "text/latex": [
       "\\begin{tabular}{r|ll}\n",
       " log\\_price & valentine\\\\\n",
       "\\hline\n",
       "\t 4.081766 & 0       \\\\\n",
       "\t 4.029984 & 0       \\\\\n",
       "\t 4.029984 & 0       \\\\\n",
       "\t 3.898532 & 0       \\\\\n",
       "\t 4.116432 & 0       \\\\\n",
       "\t 4.117410 & 0       \\\\\n",
       "\t 4.187076 & 1       \\\\\n",
       "\t 4.099995 & 0       \\\\\n",
       "\\end{tabular}\n"
      ],
      "text/markdown": [
       "\n",
       "| log_price | valentine |\n",
       "|---|---|\n",
       "| 4.081766 | 0        |\n",
       "| 4.029984 | 0        |\n",
       "| 4.029984 | 0        |\n",
       "| 3.898532 | 0        |\n",
       "| 4.116432 | 0        |\n",
       "| 4.117410 | 0        |\n",
       "| 4.187076 | 1        |\n",
       "| 4.099995 | 0        |\n",
       "\n"
      ],
      "text/plain": [
       "  log_price valentine\n",
       "1 4.081766  0        \n",
       "2 4.029984  0        \n",
       "3 4.029984  0        \n",
       "4 3.898532  0        \n",
       "5 4.116432  0        \n",
       "6 4.117410  0        \n",
       "7 4.187076  1        \n",
       "8 4.099995  0        "
      ]
     },
     "metadata": {},
     "output_type": "display_data"
    }
   ],
   "source": [
    "# Taking log and building data frame\n",
    "log_M_hi_p_test <- log(Bev_xts[,\"M.hi.p\"])\n",
    "model_M_test <- data.frame(as.vector(log_M_hi_p_test), as.vector(v_xts_v))\n",
    "colnames(model_M_test) <- c(\"log_price\", \"valentine\")\n",
    "head(model_M_test,n=8)"
   ]
  },
  {
   "cell_type": "code",
   "execution_count": 16,
   "metadata": {},
   "outputs": [
    {
     "data": {
      "text/html": [
       "<dl class=dl-horizontal>\n",
       "\t<dt>1</dt>\n",
       "\t\t<dd>6.08032988411946</dd>\n",
       "\t<dt>2</dt>\n",
       "\t\t<dd>6.11674035632818</dd>\n",
       "\t<dt>3</dt>\n",
       "\t\t<dd>6.11674035632818</dd>\n",
       "\t<dt>4</dt>\n",
       "\t\t<dd>6.26399823507527</dd>\n",
       "\t<dt>5</dt>\n",
       "\t\t<dd>6.11078213519664</dd>\n",
       "\t<dt>6</dt>\n",
       "\t\t<dd>6.11009468245874</dd>\n",
       "</dl>\n"
      ],
      "text/latex": [
       "\\begin{description*}\n",
       "\\item[1] 6.08032988411946\n",
       "\\item[2] 6.11674035632818\n",
       "\\item[3] 6.11674035632818\n",
       "\\item[4] 6.26399823507527\n",
       "\\item[5] 6.11078213519664\n",
       "\\item[6] 6.11009468245874\n",
       "\\end{description*}\n"
      ],
      "text/markdown": [
       "1\n",
       ":   6.080329884119462\n",
       ":   6.116740356328183\n",
       ":   6.116740356328184\n",
       ":   6.263998235075275\n",
       ":   6.110782135196646\n",
       ":   6.11009468245874\n",
       "\n"
      ],
      "text/plain": [
       "       1        2        3        4        5        6 \n",
       "6.080330 6.116740 6.116740 6.263998 6.110782 6.110095 "
      ]
     },
     "metadata": {},
     "output_type": "display_data"
    }
   ],
   "source": [
    "# Prediction on the test data object \"model_M_test\"\n",
    "pred_M_hi <- predict(model_M_hi_full, model_M_test)\n",
    "head(pred_M_hi)"
   ]
  },
  {
   "cell_type": "code",
   "execution_count": 17,
   "metadata": {},
   "outputs": [
    {
     "data": {
      "text/html": [
       "<dl class=dl-horizontal>\n",
       "\t<dt>1</dt>\n",
       "\t\t<dd>437.173387491615</dd>\n",
       "\t<dt>2</dt>\n",
       "\t\t<dd>453.384411584682</dd>\n",
       "\t<dt>3</dt>\n",
       "\t\t<dd>453.384411584682</dd>\n",
       "\t<dt>4</dt>\n",
       "\t\t<dd>525.315080064149</dd>\n",
       "\t<dt>5</dt>\n",
       "\t\t<dd>450.691078707165</dd>\n",
       "\t<dt>6</dt>\n",
       "\t\t<dd>450.381356363096</dd>\n",
       "</dl>\n"
      ],
      "text/latex": [
       "\\begin{description*}\n",
       "\\item[1] 437.173387491615\n",
       "\\item[2] 453.384411584682\n",
       "\\item[3] 453.384411584682\n",
       "\\item[4] 525.315080064149\n",
       "\\item[5] 450.691078707165\n",
       "\\item[6] 450.381356363096\n",
       "\\end{description*}\n"
      ],
      "text/markdown": [
       "1\n",
       ":   437.1733874916152\n",
       ":   453.3844115846823\n",
       ":   453.3844115846824\n",
       ":   525.3150800641495\n",
       ":   450.6910787071656\n",
       ":   450.381356363096\n",
       "\n"
      ],
      "text/plain": [
       "       1        2        3        4        5        6 \n",
       "437.1734 453.3844 453.3844 525.3151 450.6911 450.3814 "
      ]
     },
     "metadata": {},
     "output_type": "display_data"
    }
   ],
   "source": [
    "# Reverse log outputs\n",
    "pred_M_hi <- exp(pred_M_hi)\n",
    "head(pred_M_hi)"
   ]
  },
  {
   "cell_type": "code",
   "execution_count": null,
   "metadata": {},
   "outputs": [],
   "source": []
  }
 ],
 "metadata": {
  "kernelspec": {
   "display_name": "R",
   "language": "R",
   "name": "ir"
  },
  "language_info": {
   "codemirror_mode": "r",
   "file_extension": ".r",
   "mimetype": "text/x-r-source",
   "name": "R",
   "pygments_lexer": "r",
   "version": "3.6.1"
  }
 },
 "nbformat": 4,
 "nbformat_minor": 4
}
